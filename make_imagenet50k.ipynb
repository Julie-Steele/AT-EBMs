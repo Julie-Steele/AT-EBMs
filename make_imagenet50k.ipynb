{
 "cells": [
  {
   "cell_type": "code",
   "execution_count": 1,
   "metadata": {},
   "outputs": [],
   "source": [
    "import torch\n",
    "from dataset import get_imagenet256_dataset\n",
    "import matplotlib.pyplot as plt\n",
    "import torchvision\n",
    "import torch\n",
    "import torchvision\n",
    "import torchvision.transforms as transforms\n",
    "import numpy as np\n",
    "import pathlib\n",
    "from tqdm import tqdm\n",
    "import os\n",
    "from torchvision.transforms.functional import to_pil_image\n",
    "from concurrent.futures import ThreadPoolExecutor"
   ]
  },
  {
   "cell_type": "code",
   "execution_count": 2,
   "metadata": {},
   "outputs": [
    {
     "data": {
      "text/plain": [
       "128"
      ]
     },
     "execution_count": 2,
     "metadata": {},
     "output_type": "execute_result"
    }
   ],
   "source": [
    "os.cpu_count()"
   ]
  },
  {
   "cell_type": "code",
   "execution_count": 3,
   "metadata": {},
   "outputs": [
    {
     "name": "stderr",
     "output_type": "stream",
     "text": [
      "100%|██████████| 500/500 [03:03<00:00,  2.72it/s]\n"
     ]
    }
   ],
   "source": [
    "torch.manual_seed(0)\n",
    "if torch.cuda.is_available():\n",
    "    torch.cuda.manual_seed_all(0)\n",
    "\n",
    "ood_dataset = get_imagenet256_dataset(datadir='./datasets')\n",
    "# https://pytorch.org/docs/stable/data.html#torch.utils.data.random_split\n",
    "batch_size = 100\n",
    "loader = torch.utils.data.DataLoader(ood_dataset, batch_size=batch_size,\n",
    "                                        shuffle=True, generator=torch.Generator().manual_seed(0), num_workers=8)\n",
    "\n",
    "savedir = './datasets/imagenet50K'\n",
    "max_iters = 50000 // batch_size\n",
    "def save_image(image, idx):\n",
    "    to_pil_image(image).save(os.path.join(savedir, f'{idx:06d}.png'))\n",
    "pathlib.Path(savedir).mkdir(parents=True, exist_ok=True)\n",
    "for i, data in tqdm(zip(range(max_iters), loader), total=max_iters):\n",
    "    seed_imgs = data[0] if isinstance(data, list) else data\n",
    "    with ThreadPoolExecutor(max_workers=20) as executor:\n",
    "        for j in range(seed_imgs.shape[0]):\n",
    "            executor.submit(save_image, seed_imgs[j], i * batch_size + j)\n"
   ]
  }
 ],
 "metadata": {
  "kernelspec": {
   "display_name": "transformers2",
   "language": "python",
   "name": "python3"
  },
  "language_info": {
   "codemirror_mode": {
    "name": "ipython",
    "version": 3
   },
   "file_extension": ".py",
   "mimetype": "text/x-python",
   "name": "python",
   "nbconvert_exporter": "python",
   "pygments_lexer": "ipython3",
   "version": "3.11.8"
  }
 },
 "nbformat": 4,
 "nbformat_minor": 2
}
